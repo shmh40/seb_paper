{
 "cells": [
  {
   "cell_type": "code",
   "execution_count": 1,
   "metadata": {},
   "outputs": [
    {
     "name": "stdout",
     "output_type": "stream",
     "text": [
      "brewer\n"
     ]
    }
   ],
   "source": [
    "%%bash\n",
    "hostname"
   ]
  },
  {
   "cell_type": "code",
   "execution_count": 2,
   "metadata": {},
   "outputs": [],
   "source": [
    "import numpy as np\n",
    "import pandas as pd\n",
    "import netCDF4 as nc\n",
    "import xarray as xr\n",
    "import seaborn as sns\n",
    "from matplotlib import pyplot as plt\n",
    "from cartopy import crs as ccrs\n",
    "from mpl_toolkits.basemap import Basemap\n",
    "\n",
    "import torch\n",
    "from torch.autograd import Variable\n",
    "import torch.nn.functional as F\n",
    "import torch.utils.data as Data\n",
    "import torch.nn as nn\n",
    "\n",
    "import matplotlib.animation as animation"
   ]
  },
  {
   "cell_type": "code",
   "execution_count": 3,
   "metadata": {},
   "outputs": [],
   "source": [
    "from sklearn.linear_model import Ridge\n",
    "from sklearn.model_selection import train_test_split\n",
    "from sklearn.model_selection import cross_validate\n",
    "from sklearn.model_selection import RepeatedKFold"
   ]
  },
  {
   "cell_type": "markdown",
   "metadata": {},
   "source": [
    "# Train quick ridge regression model on ATom data"
   ]
  },
  {
   "cell_type": "code",
   "execution_count": 4,
   "metadata": {},
   "outputs": [],
   "source": [
    "atom1_data_with_p = pd.read_csv('/home/shmh4/Downloads/atom1_key_species_photolysis_data_withP_T_G_ALT')"
   ]
  },
  {
   "cell_type": "code",
   "execution_count": 5,
   "metadata": {},
   "outputs": [],
   "source": [
    "atom1_key_data = atom1_data_with_p[['OH_ATHOS', 'H2O_DLH', 'CH4_NOAA', 'CO_NOAA', 'NO2_CL', 'O3_CL', 'P', \n",
    "                                    'T', 'jO3_O2_O1D_CAFS', 'jNO2_NO_O3P_CAFS']]"
   ]
  },
  {
   "cell_type": "code",
   "execution_count": 6,
   "metadata": {},
   "outputs": [
    {
     "data": {
      "text/html": [
       "<div>\n",
       "<style scoped>\n",
       "    .dataframe tbody tr th:only-of-type {\n",
       "        vertical-align: middle;\n",
       "    }\n",
       "\n",
       "    .dataframe tbody tr th {\n",
       "        vertical-align: top;\n",
       "    }\n",
       "\n",
       "    .dataframe thead th {\n",
       "        text-align: right;\n",
       "    }\n",
       "</style>\n",
       "<table border=\"1\" class=\"dataframe\">\n",
       "  <thead>\n",
       "    <tr style=\"text-align: right;\">\n",
       "      <th></th>\n",
       "      <th>OH_ATHOS</th>\n",
       "      <th>H2O_DLH</th>\n",
       "      <th>CH4_NOAA</th>\n",
       "      <th>CO_NOAA</th>\n",
       "      <th>NO2_CL</th>\n",
       "      <th>O3_CL</th>\n",
       "      <th>P</th>\n",
       "      <th>T</th>\n",
       "      <th>jO3_O2_O1D_CAFS</th>\n",
       "      <th>jNO2_NO_O3P_CAFS</th>\n",
       "    </tr>\n",
       "  </thead>\n",
       "  <tbody>\n",
       "    <tr>\n",
       "      <th>0</th>\n",
       "      <td>0.033</td>\n",
       "      <td>14481.3750</td>\n",
       "      <td>1857.670</td>\n",
       "      <td>65.6200</td>\n",
       "      <td>0.137210</td>\n",
       "      <td>14.1900</td>\n",
       "      <td>971.060</td>\n",
       "      <td>286.10</td>\n",
       "      <td>0.000004</td>\n",
       "      <td>0.001899</td>\n",
       "    </tr>\n",
       "    <tr>\n",
       "      <th>1</th>\n",
       "      <td>0.033</td>\n",
       "      <td>14469.1625</td>\n",
       "      <td>1858.330</td>\n",
       "      <td>69.1800</td>\n",
       "      <td>0.135045</td>\n",
       "      <td>14.1430</td>\n",
       "      <td>971.300</td>\n",
       "      <td>286.35</td>\n",
       "      <td>0.000004</td>\n",
       "      <td>0.001897</td>\n",
       "    </tr>\n",
       "    <tr>\n",
       "      <th>2</th>\n",
       "      <td>0.033</td>\n",
       "      <td>14456.9500</td>\n",
       "      <td>1858.990</td>\n",
       "      <td>72.7400</td>\n",
       "      <td>0.132880</td>\n",
       "      <td>14.0960</td>\n",
       "      <td>971.540</td>\n",
       "      <td>286.60</td>\n",
       "      <td>0.000004</td>\n",
       "      <td>0.001896</td>\n",
       "    </tr>\n",
       "    <tr>\n",
       "      <th>3</th>\n",
       "      <td>0.033</td>\n",
       "      <td>14486.2550</td>\n",
       "      <td>1859.175</td>\n",
       "      <td>71.8075</td>\n",
       "      <td>0.126100</td>\n",
       "      <td>14.1320</td>\n",
       "      <td>971.830</td>\n",
       "      <td>286.60</td>\n",
       "      <td>0.000004</td>\n",
       "      <td>0.001894</td>\n",
       "    </tr>\n",
       "    <tr>\n",
       "      <th>4</th>\n",
       "      <td>0.033</td>\n",
       "      <td>14515.5600</td>\n",
       "      <td>1859.360</td>\n",
       "      <td>70.8750</td>\n",
       "      <td>0.119320</td>\n",
       "      <td>14.1680</td>\n",
       "      <td>972.120</td>\n",
       "      <td>286.60</td>\n",
       "      <td>0.000004</td>\n",
       "      <td>0.001892</td>\n",
       "    </tr>\n",
       "    <tr>\n",
       "      <th>...</th>\n",
       "      <td>...</td>\n",
       "      <td>...</td>\n",
       "      <td>...</td>\n",
       "      <td>...</td>\n",
       "      <td>...</td>\n",
       "      <td>...</td>\n",
       "      <td>...</td>\n",
       "      <td>...</td>\n",
       "      <td>...</td>\n",
       "      <td>...</td>\n",
       "    </tr>\n",
       "    <tr>\n",
       "      <th>221412</th>\n",
       "      <td>0.156</td>\n",
       "      <td>21538.2300</td>\n",
       "      <td>1888.280</td>\n",
       "      <td>97.9800</td>\n",
       "      <td>0.105910</td>\n",
       "      <td>21.7190</td>\n",
       "      <td>996.180</td>\n",
       "      <td>298.51</td>\n",
       "      <td>0.000023</td>\n",
       "      <td>0.008666</td>\n",
       "    </tr>\n",
       "    <tr>\n",
       "      <th>221413</th>\n",
       "      <td>0.156</td>\n",
       "      <td>21493.8600</td>\n",
       "      <td>1888.900</td>\n",
       "      <td>95.6700</td>\n",
       "      <td>0.119190</td>\n",
       "      <td>21.7725</td>\n",
       "      <td>996.320</td>\n",
       "      <td>298.61</td>\n",
       "      <td>0.000023</td>\n",
       "      <td>0.008669</td>\n",
       "    </tr>\n",
       "    <tr>\n",
       "      <th>221414</th>\n",
       "      <td>0.156</td>\n",
       "      <td>21449.4900</td>\n",
       "      <td>1889.520</td>\n",
       "      <td>93.3600</td>\n",
       "      <td>0.132470</td>\n",
       "      <td>21.8260</td>\n",
       "      <td>996.460</td>\n",
       "      <td>298.71</td>\n",
       "      <td>0.000023</td>\n",
       "      <td>0.008672</td>\n",
       "    </tr>\n",
       "    <tr>\n",
       "      <th>221415</th>\n",
       "      <td>0.156</td>\n",
       "      <td>21385.1550</td>\n",
       "      <td>1890.125</td>\n",
       "      <td>101.9450</td>\n",
       "      <td>0.170770</td>\n",
       "      <td>21.8350</td>\n",
       "      <td>996.605</td>\n",
       "      <td>298.77</td>\n",
       "      <td>0.000023</td>\n",
       "      <td>0.008690</td>\n",
       "    </tr>\n",
       "    <tr>\n",
       "      <th>221416</th>\n",
       "      <td>0.156</td>\n",
       "      <td>21320.8200</td>\n",
       "      <td>1890.730</td>\n",
       "      <td>110.5300</td>\n",
       "      <td>0.209070</td>\n",
       "      <td>21.8440</td>\n",
       "      <td>996.750</td>\n",
       "      <td>298.83</td>\n",
       "      <td>0.000023</td>\n",
       "      <td>0.008709</td>\n",
       "    </tr>\n",
       "  </tbody>\n",
       "</table>\n",
       "<p>221417 rows × 10 columns</p>\n",
       "</div>"
      ],
      "text/plain": [
       "        OH_ATHOS     H2O_DLH  CH4_NOAA   CO_NOAA    NO2_CL    O3_CL        P  \\\n",
       "0          0.033  14481.3750  1857.670   65.6200  0.137210  14.1900  971.060   \n",
       "1          0.033  14469.1625  1858.330   69.1800  0.135045  14.1430  971.300   \n",
       "2          0.033  14456.9500  1858.990   72.7400  0.132880  14.0960  971.540   \n",
       "3          0.033  14486.2550  1859.175   71.8075  0.126100  14.1320  971.830   \n",
       "4          0.033  14515.5600  1859.360   70.8750  0.119320  14.1680  972.120   \n",
       "...          ...         ...       ...       ...       ...      ...      ...   \n",
       "221412     0.156  21538.2300  1888.280   97.9800  0.105910  21.7190  996.180   \n",
       "221413     0.156  21493.8600  1888.900   95.6700  0.119190  21.7725  996.320   \n",
       "221414     0.156  21449.4900  1889.520   93.3600  0.132470  21.8260  996.460   \n",
       "221415     0.156  21385.1550  1890.125  101.9450  0.170770  21.8350  996.605   \n",
       "221416     0.156  21320.8200  1890.730  110.5300  0.209070  21.8440  996.750   \n",
       "\n",
       "             T  jO3_O2_O1D_CAFS  jNO2_NO_O3P_CAFS  \n",
       "0       286.10         0.000004          0.001899  \n",
       "1       286.35         0.000004          0.001897  \n",
       "2       286.60         0.000004          0.001896  \n",
       "3       286.60         0.000004          0.001894  \n",
       "4       286.60         0.000004          0.001892  \n",
       "...        ...              ...               ...  \n",
       "221412  298.51         0.000023          0.008666  \n",
       "221413  298.61         0.000023          0.008669  \n",
       "221414  298.71         0.000023          0.008672  \n",
       "221415  298.77         0.000023          0.008690  \n",
       "221416  298.83         0.000023          0.008709  \n",
       "\n",
       "[221417 rows x 10 columns]"
      ]
     },
     "execution_count": 6,
     "metadata": {},
     "output_type": "execute_result"
    }
   ],
   "source": [
    "atom1_key_data"
   ]
  },
  {
   "cell_type": "code",
   "execution_count": 7,
   "metadata": {},
   "outputs": [],
   "source": [
    "### Calculate OH mean and standard deviation for use later."
   ]
  },
  {
   "cell_type": "code",
   "execution_count": 8,
   "metadata": {},
   "outputs": [
    {
     "data": {
      "text/plain": [
       "0.18708638903062094"
      ]
     },
     "execution_count": 8,
     "metadata": {},
     "output_type": "execute_result"
    }
   ],
   "source": [
    "OH_mean = atom1_key_data.mean()[0]\n",
    "OH_mean"
   ]
  },
  {
   "cell_type": "code",
   "execution_count": 9,
   "metadata": {},
   "outputs": [
    {
     "data": {
      "text/plain": [
       "0.22123271214725962"
      ]
     },
     "execution_count": 9,
     "metadata": {},
     "output_type": "execute_result"
    }
   ],
   "source": [
    "OH_std = atom1_key_data.std()[0]\n",
    "OH_std"
   ]
  },
  {
   "cell_type": "code",
   "execution_count": 10,
   "metadata": {},
   "outputs": [],
   "source": [
    "### Normalise the dataset"
   ]
  },
  {
   "cell_type": "code",
   "execution_count": 11,
   "metadata": {},
   "outputs": [],
   "source": [
    "normalised_key_atom1_data = (atom1_key_data - atom1_key_data.mean()) / atom1_key_data.std()"
   ]
  },
  {
   "cell_type": "code",
   "execution_count": 12,
   "metadata": {
    "scrolled": false
   },
   "outputs": [
    {
     "data": {
      "text/html": [
       "<div>\n",
       "<style scoped>\n",
       "    .dataframe tbody tr th:only-of-type {\n",
       "        vertical-align: middle;\n",
       "    }\n",
       "\n",
       "    .dataframe tbody tr th {\n",
       "        vertical-align: top;\n",
       "    }\n",
       "\n",
       "    .dataframe thead th {\n",
       "        text-align: right;\n",
       "    }\n",
       "</style>\n",
       "<table border=\"1\" class=\"dataframe\">\n",
       "  <thead>\n",
       "    <tr style=\"text-align: right;\">\n",
       "      <th></th>\n",
       "      <th>OH_ATHOS</th>\n",
       "      <th>H2O_DLH</th>\n",
       "      <th>CH4_NOAA</th>\n",
       "      <th>CO_NOAA</th>\n",
       "      <th>NO2_CL</th>\n",
       "      <th>O3_CL</th>\n",
       "      <th>P</th>\n",
       "      <th>T</th>\n",
       "      <th>jO3_O2_O1D_CAFS</th>\n",
       "      <th>jNO2_NO_O3P_CAFS</th>\n",
       "    </tr>\n",
       "  </thead>\n",
       "  <tbody>\n",
       "    <tr>\n",
       "      <th>0</th>\n",
       "      <td>-0.696490</td>\n",
       "      <td>1.861055</td>\n",
       "      <td>0.821655</td>\n",
       "      <td>-0.432718</td>\n",
       "      <td>1.606353</td>\n",
       "      <td>-1.157352</td>\n",
       "      <td>1.863852</td>\n",
       "      <td>1.370637</td>\n",
       "      <td>-0.875211</td>\n",
       "      <td>-1.114259</td>\n",
       "    </tr>\n",
       "    <tr>\n",
       "      <th>1</th>\n",
       "      <td>-0.696490</td>\n",
       "      <td>1.859035</td>\n",
       "      <td>0.842557</td>\n",
       "      <td>-0.306461</td>\n",
       "      <td>1.574038</td>\n",
       "      <td>-1.158623</td>\n",
       "      <td>1.864758</td>\n",
       "      <td>1.379210</td>\n",
       "      <td>-0.875210</td>\n",
       "      <td>-1.114532</td>\n",
       "    </tr>\n",
       "    <tr>\n",
       "      <th>2</th>\n",
       "      <td>-0.696490</td>\n",
       "      <td>1.857015</td>\n",
       "      <td>0.863459</td>\n",
       "      <td>-0.180205</td>\n",
       "      <td>1.541723</td>\n",
       "      <td>-1.159895</td>\n",
       "      <td>1.865665</td>\n",
       "      <td>1.387783</td>\n",
       "      <td>-0.875209</td>\n",
       "      <td>-1.114806</td>\n",
       "    </tr>\n",
       "    <tr>\n",
       "      <th>3</th>\n",
       "      <td>-0.696490</td>\n",
       "      <td>1.861862</td>\n",
       "      <td>0.869318</td>\n",
       "      <td>-0.213276</td>\n",
       "      <td>1.440525</td>\n",
       "      <td>-1.158921</td>\n",
       "      <td>1.866760</td>\n",
       "      <td>1.387783</td>\n",
       "      <td>-0.875208</td>\n",
       "      <td>-1.115079</td>\n",
       "    </tr>\n",
       "    <tr>\n",
       "      <th>4</th>\n",
       "      <td>-0.696490</td>\n",
       "      <td>1.866709</td>\n",
       "      <td>0.875177</td>\n",
       "      <td>-0.246348</td>\n",
       "      <td>1.339327</td>\n",
       "      <td>-1.157947</td>\n",
       "      <td>1.867854</td>\n",
       "      <td>1.387783</td>\n",
       "      <td>-0.875207</td>\n",
       "      <td>-1.115353</td>\n",
       "    </tr>\n",
       "    <tr>\n",
       "      <th>...</th>\n",
       "      <td>...</td>\n",
       "      <td>...</td>\n",
       "      <td>...</td>\n",
       "      <td>...</td>\n",
       "      <td>...</td>\n",
       "      <td>...</td>\n",
       "      <td>...</td>\n",
       "      <td>...</td>\n",
       "      <td>...</td>\n",
       "      <td>...</td>\n",
       "    </tr>\n",
       "    <tr>\n",
       "      <th>221412</th>\n",
       "      <td>-0.140514</td>\n",
       "      <td>3.028325</td>\n",
       "      <td>1.791067</td>\n",
       "      <td>0.714938</td>\n",
       "      <td>1.139170</td>\n",
       "      <td>-0.953670</td>\n",
       "      <td>1.958696</td>\n",
       "      <td>1.796194</td>\n",
       "      <td>-0.060391</td>\n",
       "      <td>0.071606</td>\n",
       "    </tr>\n",
       "    <tr>\n",
       "      <th>221413</th>\n",
       "      <td>-0.140514</td>\n",
       "      <td>3.020985</td>\n",
       "      <td>1.810703</td>\n",
       "      <td>0.633013</td>\n",
       "      <td>1.337387</td>\n",
       "      <td>-0.952222</td>\n",
       "      <td>1.959225</td>\n",
       "      <td>1.799623</td>\n",
       "      <td>-0.060284</td>\n",
       "      <td>0.072176</td>\n",
       "    </tr>\n",
       "    <tr>\n",
       "      <th>221414</th>\n",
       "      <td>-0.140514</td>\n",
       "      <td>3.013646</td>\n",
       "      <td>1.830338</td>\n",
       "      <td>0.551088</td>\n",
       "      <td>1.535604</td>\n",
       "      <td>-0.950775</td>\n",
       "      <td>1.959753</td>\n",
       "      <td>1.803052</td>\n",
       "      <td>-0.060177</td>\n",
       "      <td>0.072746</td>\n",
       "    </tr>\n",
       "    <tr>\n",
       "      <th>221415</th>\n",
       "      <td>-0.140514</td>\n",
       "      <td>3.003005</td>\n",
       "      <td>1.849498</td>\n",
       "      <td>0.855557</td>\n",
       "      <td>2.107269</td>\n",
       "      <td>-0.950532</td>\n",
       "      <td>1.960301</td>\n",
       "      <td>1.805110</td>\n",
       "      <td>-0.059221</td>\n",
       "      <td>0.075965</td>\n",
       "    </tr>\n",
       "    <tr>\n",
       "      <th>221416</th>\n",
       "      <td>-0.140514</td>\n",
       "      <td>2.992363</td>\n",
       "      <td>1.868658</td>\n",
       "      <td>1.160026</td>\n",
       "      <td>2.678933</td>\n",
       "      <td>-0.950288</td>\n",
       "      <td>1.960848</td>\n",
       "      <td>1.807167</td>\n",
       "      <td>-0.058265</td>\n",
       "      <td>0.079185</td>\n",
       "    </tr>\n",
       "  </tbody>\n",
       "</table>\n",
       "<p>221417 rows × 10 columns</p>\n",
       "</div>"
      ],
      "text/plain": [
       "        OH_ATHOS   H2O_DLH  CH4_NOAA   CO_NOAA    NO2_CL     O3_CL         P  \\\n",
       "0      -0.696490  1.861055  0.821655 -0.432718  1.606353 -1.157352  1.863852   \n",
       "1      -0.696490  1.859035  0.842557 -0.306461  1.574038 -1.158623  1.864758   \n",
       "2      -0.696490  1.857015  0.863459 -0.180205  1.541723 -1.159895  1.865665   \n",
       "3      -0.696490  1.861862  0.869318 -0.213276  1.440525 -1.158921  1.866760   \n",
       "4      -0.696490  1.866709  0.875177 -0.246348  1.339327 -1.157947  1.867854   \n",
       "...          ...       ...       ...       ...       ...       ...       ...   \n",
       "221412 -0.140514  3.028325  1.791067  0.714938  1.139170 -0.953670  1.958696   \n",
       "221413 -0.140514  3.020985  1.810703  0.633013  1.337387 -0.952222  1.959225   \n",
       "221414 -0.140514  3.013646  1.830338  0.551088  1.535604 -0.950775  1.959753   \n",
       "221415 -0.140514  3.003005  1.849498  0.855557  2.107269 -0.950532  1.960301   \n",
       "221416 -0.140514  2.992363  1.868658  1.160026  2.678933 -0.950288  1.960848   \n",
       "\n",
       "               T  jO3_O2_O1D_CAFS  jNO2_NO_O3P_CAFS  \n",
       "0       1.370637        -0.875211         -1.114259  \n",
       "1       1.379210        -0.875210         -1.114532  \n",
       "2       1.387783        -0.875209         -1.114806  \n",
       "3       1.387783        -0.875208         -1.115079  \n",
       "4       1.387783        -0.875207         -1.115353  \n",
       "...          ...              ...               ...  \n",
       "221412  1.796194        -0.060391          0.071606  \n",
       "221413  1.799623        -0.060284          0.072176  \n",
       "221414  1.803052        -0.060177          0.072746  \n",
       "221415  1.805110        -0.059221          0.075965  \n",
       "221416  1.807167        -0.058265          0.079185  \n",
       "\n",
       "[221417 rows x 10 columns]"
      ]
     },
     "execution_count": 12,
     "metadata": {},
     "output_type": "execute_result"
    }
   ],
   "source": [
    "normalised_key_atom1_data"
   ]
  },
  {
   "cell_type": "code",
   "execution_count": 13,
   "metadata": {},
   "outputs": [],
   "source": [
    "### Split data into training and testing data manually"
   ]
  },
  {
   "cell_type": "code",
   "execution_count": 14,
   "metadata": {},
   "outputs": [],
   "source": [
    "train_OH_ATHOS = normalised_key_atom1_data.iloc[np.r_[185000:188285, 195485:221417], 0]\n",
    "test_OH_ATHOS = normalised_key_atom1_data.iloc[188285:195485, 0]\n",
    "train_data = normalised_key_atom1_data.iloc[np.r_[185000:188285, 195485:221417], 1:11]\n",
    "test_data = normalised_key_atom1_data.iloc[188285:195485, 1:11]"
   ]
  },
  {
   "cell_type": "code",
   "execution_count": 15,
   "metadata": {},
   "outputs": [],
   "source": [
    "### Split data using k-fold "
   ]
  },
  {
   "cell_type": "code",
   "execution_count": 16,
   "metadata": {},
   "outputs": [],
   "source": [
    "OH_data = normalised_key_atom1_data.iloc[185000:221417, 0]\n",
    "other_data = normalised_key_atom1_data.iloc[185000:221417, 1:11]"
   ]
  },
  {
   "cell_type": "code",
   "execution_count": 17,
   "metadata": {},
   "outputs": [],
   "source": [
    "X_train, X_test, y_train, y_test = train_test_split(other_data, OH_data, test_size=0.4, random_state=0)"
   ]
  },
  {
   "cell_type": "code",
   "execution_count": 18,
   "metadata": {},
   "outputs": [
    {
     "data": {
      "text/plain": [
       "Ridge(alpha=0.01, fit_intercept=False)"
      ]
     },
     "execution_count": 18,
     "metadata": {},
     "output_type": "execute_result"
    }
   ],
   "source": [
    "rr = Ridge(alpha=1e-2, fit_intercept=False)\n",
    "rr.fit(X_train,y_train)"
   ]
  },
  {
   "cell_type": "code",
   "execution_count": 19,
   "metadata": {},
   "outputs": [
    {
     "data": {
      "text/plain": [
       "{'alpha': 0.01,\n",
       " 'copy_X': True,\n",
       " 'fit_intercept': False,\n",
       " 'max_iter': None,\n",
       " 'normalize': False,\n",
       " 'random_state': None,\n",
       " 'solver': 'auto',\n",
       " 'tol': 0.001}"
      ]
     },
     "execution_count": 19,
     "metadata": {},
     "output_type": "execute_result"
    }
   ],
   "source": [
    "rr.get_params()"
   ]
  },
  {
   "cell_type": "code",
   "execution_count": 20,
   "metadata": {},
   "outputs": [
    {
     "data": {
      "text/plain": [
       "array([ 0.25108994,  0.31849412,  0.16192909,  0.37956047,  0.0609911 ,\n",
       "       -0.4915139 , -0.24515337,  0.19122984,  0.9351133 ])"
      ]
     },
     "execution_count": 20,
     "metadata": {},
     "output_type": "execute_result"
    }
   ],
   "source": [
    "rr.coef_"
   ]
  },
  {
   "cell_type": "code",
   "execution_count": 21,
   "metadata": {},
   "outputs": [],
   "source": [
    "predictions = rr.predict(X_test)"
   ]
  },
  {
   "cell_type": "code",
   "execution_count": 22,
   "metadata": {
    "scrolled": true
   },
   "outputs": [
    {
     "data": {
      "text/plain": [
       "(-2.0, 9.0)"
      ]
     },
     "execution_count": 22,
     "metadata": {},
     "output_type": "execute_result"
    },
    {
     "data": {
      "image/png": "[encoded data removed]",
      "text/plain": [
       "<Figure size 432x288 with 1 Axes>"
      ]
     },
     "metadata": {
      "needs_background": "light"
     },
     "output_type": "display_data"
    }
   ],
   "source": [
    "plt.scatter(predictions, y_test)\n",
    "plt.xlim([-2, 9])\n",
    "plt.ylim([-2, 9])"
   ]
  },
  {
   "cell_type": "code",
   "execution_count": 23,
   "metadata": {
    "scrolled": false
   },
   "outputs": [
    {
     "data": {
      "text/plain": [
       "(5000.0, 5100.0)"
      ]
     },
     "execution_count": 23,
     "metadata": {},
     "output_type": "execute_result"
    },
    {
     "data": {
      "image/png": "[encoded data removed]",
      "text/plain": [
       "<Figure size 432x288 with 1 Axes>"
      ]
     },
     "metadata": {
      "needs_background": "light"
     },
     "output_type": "display_data"
    }
   ],
   "source": [
    "plt.plot(predictions)\n",
    "plt.plot(np.arange(0,14567,1), y_test)\n",
    "plt.xlim(5000,5100)"
   ]
  },
  {
   "cell_type": "markdown",
   "metadata": {},
   "source": [
    "# Plot coefficients of the RR model"
   ]
  },
  {
   "cell_type": "code",
   "execution_count": 24,
   "metadata": {},
   "outputs": [],
   "source": [
    "coefs = pd.DataFrame(rr.coef_, columns=['Coefficients'], index = normalised_key_atom1_data.columns[1:10])"
   ]
  },
  {
   "cell_type": "code",
   "execution_count": 25,
   "metadata": {
    "scrolled": false
   },
   "outputs": [
    {
     "data": {
      "text/html": [
       "<div>\n",
       "<style scoped>\n",
       "    .dataframe tbody tr th:only-of-type {\n",
       "        vertical-align: middle;\n",
       "    }\n",
       "\n",
       "    .dataframe tbody tr th {\n",
       "        vertical-align: top;\n",
       "    }\n",
       "\n",
       "    .dataframe thead th {\n",
       "        text-align: right;\n",
       "    }\n",
       "</style>\n",
       "<table border=\"1\" class=\"dataframe\">\n",
       "  <thead>\n",
       "    <tr style=\"text-align: right;\">\n",
       "      <th></th>\n",
       "      <th>Coefficients</th>\n",
       "    </tr>\n",
       "  </thead>\n",
       "  <tbody>\n",
       "    <tr>\n",
       "      <th>H2O_DLH</th>\n",
       "      <td>0.251090</td>\n",
       "    </tr>\n",
       "    <tr>\n",
       "      <th>CH4_NOAA</th>\n",
       "      <td>0.318494</td>\n",
       "    </tr>\n",
       "    <tr>\n",
       "      <th>CO_NOAA</th>\n",
       "      <td>0.161929</td>\n",
       "    </tr>\n",
       "    <tr>\n",
       "      <th>NO2_CL</th>\n",
       "      <td>0.379560</td>\n",
       "    </tr>\n",
       "    <tr>\n",
       "      <th>O3_CL</th>\n",
       "      <td>0.060991</td>\n",
       "    </tr>\n",
       "    <tr>\n",
       "      <th>P</th>\n",
       "      <td>-0.491514</td>\n",
       "    </tr>\n",
       "    <tr>\n",
       "      <th>T</th>\n",
       "      <td>-0.245153</td>\n",
       "    </tr>\n",
       "    <tr>\n",
       "      <th>jO3_O2_O1D_CAFS</th>\n",
       "      <td>0.191230</td>\n",
       "    </tr>\n",
       "    <tr>\n",
       "      <th>jNO2_NO_O3P_CAFS</th>\n",
       "      <td>0.935113</td>\n",
       "    </tr>\n",
       "  </tbody>\n",
       "</table>\n",
       "</div>"
      ],
      "text/plain": [
       "                  Coefficients\n",
       "H2O_DLH               0.251090\n",
       "CH4_NOAA              0.318494\n",
       "CO_NOAA               0.161929\n",
       "NO2_CL                0.379560\n",
       "O3_CL                 0.060991\n",
       "P                    -0.491514\n",
       "T                    -0.245153\n",
       "jO3_O2_O1D_CAFS       0.191230\n",
       "jNO2_NO_O3P_CAFS      0.935113"
      ]
     },
     "execution_count": 25,
     "metadata": {},
     "output_type": "execute_result"
    }
   ],
   "source": [
    "coefs"
   ]
  },
  {
   "cell_type": "code",
   "execution_count": 26,
   "metadata": {
    "scrolled": false
   },
   "outputs": [
    {
     "data": {
      "text/plain": [
       "<matplotlib.lines.Line2D at 0x7f92cbb744f0>"
      ]
     },
     "execution_count": 26,
     "metadata": {},
     "output_type": "execute_result"
    },
    {
     "data": {
      "image/png": "[encoded data removed]",
      "text/plain": [
       "<Figure size 1008x576 with 1 Axes>"
      ]
     },
     "metadata": {
      "needs_background": "light"
     },
     "output_type": "display_data"
    }
   ],
   "source": [
    "coefs.plot(kind='barh', figsize=(14, 8))\n",
    "plt.xlim(-1.2, 1.2)\n",
    "plt.axvline(x=0, color = 'k', alpha = 0.2, linewidth = 1)\n"
   ]
  },
  {
   "cell_type": "markdown",
   "metadata": {},
   "source": [
    "# Check coefficients are legitimate with k fold cross validation"
   ]
  },
  {
   "cell_type": "code",
   "execution_count": 27,
   "metadata": {},
   "outputs": [],
   "source": [
    "cv_results = cross_validate(rr, other_data, OH_data, cv=RepeatedKFold(n_splits=10, n_repeats=1),\n",
    "    return_estimator=True, n_jobs=-1)"
   ]
  },
  {
   "cell_type": "code",
   "execution_count": 28,
   "metadata": {},
   "outputs": [],
   "source": [
    "empty_list = []"
   ]
  },
  {
   "cell_type": "code",
   "execution_count": 29,
   "metadata": {},
   "outputs": [],
   "source": [
    "for model in cv_results['estimator']:\n",
    "    empty_list.append(model.coef_)"
   ]
  },
  {
   "cell_type": "code",
   "execution_count": 30,
   "metadata": {},
   "outputs": [],
   "source": [
    "df_coefs = pd.DataFrame(empty_list) "
   ]
  },
  {
   "cell_type": "code",
   "execution_count": 31,
   "metadata": {},
   "outputs": [],
   "source": [
    "df_coefs.columns = [normalised_key_atom1_data.columns[1:10]]"
   ]
  },
  {
   "cell_type": "code",
   "execution_count": 32,
   "metadata": {
    "scrolled": true
   },
   "outputs": [
    {
     "data": {
      "text/html": [
       "<div>\n",
       "<style scoped>\n",
       "    .dataframe tbody tr th:only-of-type {\n",
       "        vertical-align: middle;\n",
       "    }\n",
       "\n",
       "    .dataframe tbody tr th {\n",
       "        vertical-align: top;\n",
       "    }\n",
       "\n",
       "    .dataframe thead th {\n",
       "        text-align: right;\n",
       "    }\n",
       "</style>\n",
       "<table border=\"1\" class=\"dataframe\">\n",
       "  <thead>\n",
       "    <tr style=\"text-align: right;\">\n",
       "      <th></th>\n",
       "      <th>0</th>\n",
       "      <th>1</th>\n",
       "      <th>2</th>\n",
       "      <th>3</th>\n",
       "      <th>4</th>\n",
       "      <th>5</th>\n",
       "      <th>6</th>\n",
       "      <th>7</th>\n",
       "      <th>8</th>\n",
       "      <th>9</th>\n",
       "    </tr>\n",
       "  </thead>\n",
       "  <tbody>\n",
       "    <tr>\n",
       "      <th>H2O_DLH</th>\n",
       "      <td>0.263232</td>\n",
       "      <td>0.261376</td>\n",
       "      <td>0.262263</td>\n",
       "      <td>0.261300</td>\n",
       "      <td>0.260199</td>\n",
       "      <td>0.259478</td>\n",
       "      <td>0.263523</td>\n",
       "      <td>0.265849</td>\n",
       "      <td>0.260259</td>\n",
       "      <td>0.261320</td>\n",
       "    </tr>\n",
       "    <tr>\n",
       "      <th>CH4_NOAA</th>\n",
       "      <td>0.315068</td>\n",
       "      <td>0.315929</td>\n",
       "      <td>0.316495</td>\n",
       "      <td>0.322123</td>\n",
       "      <td>0.309788</td>\n",
       "      <td>0.316887</td>\n",
       "      <td>0.314646</td>\n",
       "      <td>0.312600</td>\n",
       "      <td>0.317520</td>\n",
       "      <td>0.316217</td>\n",
       "    </tr>\n",
       "    <tr>\n",
       "      <th>CO_NOAA</th>\n",
       "      <td>0.158856</td>\n",
       "      <td>0.161654</td>\n",
       "      <td>0.160858</td>\n",
       "      <td>0.154937</td>\n",
       "      <td>0.163329</td>\n",
       "      <td>0.161777</td>\n",
       "      <td>0.158855</td>\n",
       "      <td>0.154640</td>\n",
       "      <td>0.156545</td>\n",
       "      <td>0.162239</td>\n",
       "    </tr>\n",
       "    <tr>\n",
       "      <th>NO2_CL</th>\n",
       "      <td>0.397285</td>\n",
       "      <td>0.395908</td>\n",
       "      <td>0.395281</td>\n",
       "      <td>0.393287</td>\n",
       "      <td>0.397073</td>\n",
       "      <td>0.391261</td>\n",
       "      <td>0.393695</td>\n",
       "      <td>0.397946</td>\n",
       "      <td>0.392921</td>\n",
       "      <td>0.394519</td>\n",
       "    </tr>\n",
       "    <tr>\n",
       "      <th>O3_CL</th>\n",
       "      <td>0.067293</td>\n",
       "      <td>0.066796</td>\n",
       "      <td>0.069832</td>\n",
       "      <td>0.071693</td>\n",
       "      <td>0.073080</td>\n",
       "      <td>0.075628</td>\n",
       "      <td>0.068576</td>\n",
       "      <td>0.071332</td>\n",
       "      <td>0.071170</td>\n",
       "      <td>0.072781</td>\n",
       "    </tr>\n",
       "    <tr>\n",
       "      <th>P</th>\n",
       "      <td>-0.536116</td>\n",
       "      <td>-0.541999</td>\n",
       "      <td>-0.530658</td>\n",
       "      <td>-0.532016</td>\n",
       "      <td>-0.514566</td>\n",
       "      <td>-0.521924</td>\n",
       "      <td>-0.537497</td>\n",
       "      <td>-0.543126</td>\n",
       "      <td>-0.530950</td>\n",
       "      <td>-0.535222</td>\n",
       "    </tr>\n",
       "    <tr>\n",
       "      <th>T</th>\n",
       "      <td>-0.203419</td>\n",
       "      <td>-0.196936</td>\n",
       "      <td>-0.209134</td>\n",
       "      <td>-0.208759</td>\n",
       "      <td>-0.219907</td>\n",
       "      <td>-0.211580</td>\n",
       "      <td>-0.203887</td>\n",
       "      <td>-0.197615</td>\n",
       "      <td>-0.205762</td>\n",
       "      <td>-0.200174</td>\n",
       "    </tr>\n",
       "    <tr>\n",
       "      <th>jO3_O2_O1D_CAFS</th>\n",
       "      <td>0.181489</td>\n",
       "      <td>0.177071</td>\n",
       "      <td>0.180689</td>\n",
       "      <td>0.187695</td>\n",
       "      <td>0.187004</td>\n",
       "      <td>0.177308</td>\n",
       "      <td>0.188203</td>\n",
       "      <td>0.189106</td>\n",
       "      <td>0.183280</td>\n",
       "      <td>0.182630</td>\n",
       "    </tr>\n",
       "    <tr>\n",
       "      <th>jNO2_NO_O3P_CAFS</th>\n",
       "      <td>0.926302</td>\n",
       "      <td>0.932789</td>\n",
       "      <td>0.927667</td>\n",
       "      <td>0.911297</td>\n",
       "      <td>0.933974</td>\n",
       "      <td>0.938052</td>\n",
       "      <td>0.918309</td>\n",
       "      <td>0.917305</td>\n",
       "      <td>0.928163</td>\n",
       "      <td>0.925789</td>\n",
       "    </tr>\n",
       "  </tbody>\n",
       "</table>\n",
       "</div>"
      ],
      "text/plain": [
       "                         0         1         2         3         4         5  \\\n",
       "H2O_DLH           0.263232  0.261376  0.262263  0.261300  0.260199  0.259478   \n",
       "CH4_NOAA          0.315068  0.315929  0.316495  0.322123  0.309788  0.316887   \n",
       "CO_NOAA           0.158856  0.161654  0.160858  0.154937  0.163329  0.161777   \n",
       "NO2_CL            0.397285  0.395908  0.395281  0.393287  0.397073  0.391261   \n",
       "O3_CL             0.067293  0.066796  0.069832  0.071693  0.073080  0.075628   \n",
       "P                -0.536116 -0.541999 -0.530658 -0.532016 -0.514566 -0.521924   \n",
       "T                -0.203419 -0.196936 -0.209134 -0.208759 -0.219907 -0.211580   \n",
       "jO3_O2_O1D_CAFS   0.181489  0.177071  0.180689  0.187695  0.187004  0.177308   \n",
       "jNO2_NO_O3P_CAFS  0.926302  0.932789  0.927667  0.911297  0.933974  0.938052   \n",
       "\n",
       "                         6         7         8         9  \n",
       "H2O_DLH           0.263523  0.265849  0.260259  0.261320  \n",
       "CH4_NOAA          0.314646  0.312600  0.317520  0.316217  \n",
       "CO_NOAA           0.158855  0.154640  0.156545  0.162239  \n",
       "NO2_CL            0.393695  0.397946  0.392921  0.394519  \n",
       "O3_CL             0.068576  0.071332  0.071170  0.072781  \n",
       "P                -0.537497 -0.543126 -0.530950 -0.535222  \n",
       "T                -0.203887 -0.197615 -0.205762 -0.200174  \n",
       "jO3_O2_O1D_CAFS   0.188203  0.189106  0.183280  0.182630  \n",
       "jNO2_NO_O3P_CAFS  0.918309  0.917305  0.928163  0.925789  "
      ]
     },
     "execution_count": 32,
     "metadata": {},
     "output_type": "execute_result"
    }
   ],
   "source": [
    "df_coefs.transpose()"
   ]
  },
  {
   "cell_type": "code",
   "execution_count": 33,
   "metadata": {},
   "outputs": [
    {
     "name": "stderr",
     "output_type": "stream",
     "text": [
      "/home/shmh4/.conda/envs/netcdf/lib/python3.8/site-packages/seaborn/categorical.py:1296: UserWarning: 10.0% of the points cannot be placed; you may want to decrease the size of the markers or use stripplot.\n",
      "  warnings.warn(msg, UserWarning)\n"
     ]
    },
    {
     "data": {
      "text/plain": [
       "Text(0.5, 1.0, 'Coefficient importance and its variability')"
      ]
     },
     "execution_count": 33,
     "metadata": {},
     "output_type": "execute_result"
    },
    {
     "data": {
      "image/png": "[encoded data removed]",
      "text/plain": [
       "<Figure size 1008x576 with 1 Axes>"
      ]
     },
     "metadata": {
      "needs_background": "light"
     },
     "output_type": "display_data"
    }
   ],
   "source": [
    "plt.figure(figsize=(14, 8))\n",
    "sns.swarmplot(data=df_coefs, orient='h', color='k', alpha=0.5, size = 4)\n",
    "sns.boxplot(data=df_coefs, orient='h', color='cyan', saturation=0.5)\n",
    "plt.axvline(x=0, color='.5')\n",
    "plt.gca().invert_yaxis()\n",
    "plt.xlim(-1.2, 1,2)\n",
    "plt.xlabel('Coefficient importance')\n",
    "plt.title('Coefficient importance and its variability')\n"
   ]
  },
  {
   "cell_type": "code",
   "execution_count": 34,
   "metadata": {},
   "outputs": [],
   "source": [
    "# ppm to concentration transformation function"
   ]
  },
  {
   "cell_type": "code",
   "execution_count": 35,
   "metadata": {},
   "outputs": [],
   "source": [
    "def M(p, T):\n",
    "    m = p*100 / (1.38065e-23 * T)\n",
    "    return m/1000000"
   ]
  },
  {
   "cell_type": "code",
   "execution_count": 36,
   "metadata": {},
   "outputs": [],
   "source": [
    "m_atmos = M(X_test['P'], X_test['T'])"
   ]
  },
  {
   "cell_type": "code",
   "execution_count": 37,
   "metadata": {},
   "outputs": [
    {
     "data": {
      "text/plain": [
       "Int64Index([213809, 219755, 219569, 212406, 213532, 194184, 202008, 205996,\n",
       "            185759, 192812,\n",
       "            ...\n",
       "            206140, 210522, 201948, 210893, 220402, 206081, 206157, 202241,\n",
       "            218929, 193585],\n",
       "           dtype='int64', length=14567)"
      ]
     },
     "execution_count": 37,
     "metadata": {},
     "output_type": "execute_result"
    }
   ],
   "source": [
    "X_test.index"
   ]
  },
  {
   "cell_type": "markdown",
   "metadata": {},
   "source": [
    "# Train quick neural net on ATom data"
   ]
  },
  {
   "cell_type": "code",
   "execution_count": 38,
   "metadata": {},
   "outputs": [],
   "source": [
    "train_features = torch.tensor(X_train.values)\n",
    "test_features = torch.tensor(X_test.values)\n",
    "train_labels = torch.tensor(y_train.values).reshape(-1,1)\n",
    "test_labels = torch.tensor(y_test.values).reshape(-1,1)"
   ]
  },
  {
   "cell_type": "code",
   "execution_count": 39,
   "metadata": {},
   "outputs": [],
   "source": [
    "train_features, train_labels = Variable(train_features), Variable(train_labels)"
   ]
  },
  {
   "cell_type": "code",
   "execution_count": 40,
   "metadata": {},
   "outputs": [],
   "source": [
    "class ModernAffineLayer(nn.Module):\n",
    "    def __init__(self, in_dim, out_dim, dropout_probs=0.3):\n",
    "        super().__init__()\n",
    "        self.linear = nn.Linear(in_dim, out_dim)\n",
    "        self.activation = nn.ReLU()\n",
    "        self.bn = nn.BatchNorm1d(out_dim)\n",
    "        self.dropout = nn.Dropout(dropout_probs)\n",
    "\n",
    "    def forward(self, x, final=False):\n",
    "        x = self.linear(x)\n",
    "\n",
    "        if not final:\n",
    "            x = self.activation(x)\n",
    "            x = self.dropout(x)\n",
    "\n",
    "        x = self.bn(x)\n",
    "        return x"
   ]
  },
  {
   "cell_type": "code",
   "execution_count": 41,
   "metadata": {},
   "outputs": [],
   "source": [
    "class Model(nn.Module):\n",
    "    def __init__(self):\n",
    "        super().__init__()\n",
    "        self.layer1 = ModernAffineLayer(9, 256) # this is a block\n",
    "        self.layer2 = ModernAffineLayer(256, 128)\n",
    "        self.layer3 = ModernAffineLayer(128, 128)\n",
    "        self.layer4 = ModernAffineLayer(128, 16)\n",
    "        self.layer5 = ModernAffineLayer(16, 1)\n",
    "\n",
    "\n",
    "    def forward(self, x):\n",
    "        x = self.layer1(x)\n",
    "        x = self.layer2(x)\n",
    "        x = self.layer3(x)\n",
    "        x = self.layer4(x)\n",
    "        x = self.layer5(x, final=True)\n",
    "        mean = x\n",
    "        return mean"
   ]
  },
  {
   "cell_type": "code",
   "execution_count": 42,
   "metadata": {},
   "outputs": [],
   "source": [
    "model = Model()"
   ]
  },
  {
   "cell_type": "code",
   "execution_count": 43,
   "metadata": {},
   "outputs": [],
   "source": [
    "optimizer = torch.optim.Adam(model.parameters(), lr=3e-4, weight_decay = 1e-13)\n",
    "loss_func = torch.nn.MSELoss()\n",
    "\n",
    "batch_size = 128\n",
    "EPOCH = 25"
   ]
  },
  {
   "cell_type": "code",
   "execution_count": 44,
   "metadata": {},
   "outputs": [],
   "source": [
    "torch_dataset = Data.TensorDataset(train_features, train_labels)"
   ]
  },
  {
   "cell_type": "code",
   "execution_count": 45,
   "metadata": {},
   "outputs": [],
   "source": [
    "loader = Data.DataLoader(\n",
    "    dataset=torch_dataset,\n",
    "    batch_size=batch_size,\n",
    "    shuffle=True, num_workers=2,)"
   ]
  },
  {
   "cell_type": "code",
   "execution_count": 46,
   "metadata": {},
   "outputs": [],
   "source": [
    "def train_step(data, label):\n",
    "    data = Variable(data).float()\n",
    "    label = Variable(label).float()\n",
    "\n",
    "    mean = model(data)\n",
    "    loss = loss_func(mean, label)\n",
    "\n",
    "    optimizer.zero_grad()\n",
    "    loss.backward()\n",
    "    optimizer.step()\n",
    "\n",
    "    return loss.data"
   ]
  },
  {
   "cell_type": "code",
   "execution_count": 47,
   "metadata": {},
   "outputs": [],
   "source": [
    "def train_epoch():\n",
    "    for step, (data,label) in enumerate(loader):\n",
    "        last_loss = train_step(data, label)\n",
    "    return last_loss"
   ]
  },
  {
   "cell_type": "code",
   "execution_count": null,
   "metadata": {},
   "outputs": [
    {
     "name": "stdout",
     "output_type": "stream",
     "text": [
      "Epoch: 1, Loss: 2.0594661235809326\n",
      "Epoch: 2, Loss: 1.593840479850769\n",
      "Epoch: 3, Loss: 1.4835076332092285\n",
      "Epoch: 4, Loss: 1.604374885559082\n",
      "Epoch: 5, Loss: 1.6609110832214355\n",
      "Epoch: 6, Loss: 1.2597886323928833\n",
      "Epoch: 7, Loss: 1.6652804613113403\n"
     ]
    }
   ],
   "source": [
    "for epoch in range(EPOCH):\n",
    "    last_loss = train_epoch()\n",
    "    print(f'Epoch: {epoch+1}, Loss: {last_loss}')"
   ]
  },
  {
   "cell_type": "code",
   "execution_count": null,
   "metadata": {},
   "outputs": [],
   "source": [
    "net_applied_to_training_data = model(train_features.float()).detach().numpy()\n",
    "net_applied_to_testing_data = model(test_features.float()).detach().numpy()"
   ]
  },
  {
   "cell_type": "code",
   "execution_count": null,
   "metadata": {},
   "outputs": [],
   "source": [
    "for _ in range(19):\n",
    "    net_applied_to_testing_data_temp = model(test_features.float()).detach().numpy()\n",
    "    net_applied_to_testing_data = np.concatenate((net_applied_to_testing_data, net_applied_to_testing_data_temp), axis=1)"
   ]
  },
  {
   "cell_type": "code",
   "execution_count": null,
   "metadata": {},
   "outputs": [],
   "source": [
    "mean_prediction = net_applied_to_testing_data.mean(axis=1)\n",
    "var_prediction = net_applied_to_testing_data.var(axis=1)"
   ]
  },
  {
   "cell_type": "code",
   "execution_count": null,
   "metadata": {},
   "outputs": [],
   "source": [
    "plt.figure(dpi=100)\n",
    "plt.plot(mean_prediction)\n",
    "#plt.fill_between(range(77676), all_net_outputs_mean - 25*all_net_outputs_var, all_net_outputs_mean + 25*all_net_outputs_var, alpha=0.2, color=\"b\")\n",
    "plt.plot(test_labels, color='r')\n",
    "#plt.xlim(2000,2200)"
   ]
  },
  {
   "cell_type": "code",
   "execution_count": null,
   "metadata": {},
   "outputs": [],
   "source": [
    "fig, ax1 = plt.subplots(dpi=500)\n",
    "\n",
    "ax1.plot(range(14567), ((mean_prediction*OH_std) + OH_mean) * m_atmos * 1e-12, label = 'NN [OH]')\n",
    "ax1.fill_between(range(14567), ((mean_prediction - np.sqrt(var_prediction))*OH_std + OH_mean)*m_atmos*1e-12, ((mean_prediction + np.sqrt(var_prediction))*OH_std + OH_mean)*m_atmos*1e-12, alpha=0.2, color=\"b\", label='Uncertainty in NN')\n",
    "ax1.plot(range(14567), ((y_test*OH_std) + OH_mean) * m_atmos * 1e-12, color='r', label='Observed [OH]')\n",
    "\n",
    "#myFmt = mdates.DateFormatter('%H:%M')\n",
    "#ax1.xaxis.set_major_formatter(myFmt)\n",
    "\n",
    "ax1.set_ylabel('[OH] / molecules cm-3')\n",
    "ax1.set_xlabel('Time')\n",
    "ax1.legend(fontsize=6)\n",
    "ax1.set_title('Neural network model', fontsize=10)\n",
    "plt.ylim(-0.1e9, 1.45e8)\n",
    "plt.xlim(2000,2600)"
   ]
  },
  {
   "cell_type": "code",
   "execution_count": null,
   "metadata": {},
   "outputs": [],
   "source": []
  },
  {
   "cell_type": "code",
   "execution_count": null,
   "metadata": {},
   "outputs": [],
   "source": []
  }
 ],
 "metadata": {
  "kernelspec": {
   "display_name": "Python 3",
   "language": "python",
   "name": "python3"
  },
  "language_info": {
   "codemirror_mode": {
    "name": "ipython",
    "version": 3
   },
   "file_extension": ".py",
   "mimetype": "text/x-python",
   "name": "python",
   "nbconvert_exporter": "python",
   "pygments_lexer": "ipython3",
   "version": "3.8.5"
  }
 },
 "nbformat": 4,
 "nbformat_minor": 4
}
